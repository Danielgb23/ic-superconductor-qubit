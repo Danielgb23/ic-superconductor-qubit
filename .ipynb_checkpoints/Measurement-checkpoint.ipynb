{
 "cells": [
  {
   "cell_type": "code",
   "execution_count": null,
   "id": "1502edaa",
   "metadata": {},
   "outputs": [],
   "source": [
    "#      Hamiltonian\n",
    "\n",
    "    H3 = (w_q - w ) * Ts22 + (2 * w_q - Ec - w) * Ts33\n",
    "        \n",
    "\n",
    "    H1 = (w_nr - w )* (b.dag() * b ) + L * (b.dag() * ( Ts12 + sqrt(2) * Ts32.dag() ) \n",
    "                                            + b * ( Ts12.dag() + sqrt(2) * Ts32 )\n",
    "                                           )\n",
    "\n",
    "\n",
    "    H2 = (w_c - w) * (c.dag() * c )  + g * ( c.dag()*(Ts12=s+ + sqrt(2) * Ts32.dag()) \n",
    "                                            + c*(Ts12.dag() + sqrt(2) * Ts32)\n",
    "                                           )\n",
    "w=> a little off wc\n",
    "\n",
    "    H4 = A * (c.dag() + c)\n",
    "    A= rectangular wave\n",
    "    H="
   ]
  },
  {
   "cell_type": "markdown",
   "id": "f331947f",
   "metadata": {},
   "source": [
    "output is the cavity's trace out qubit density matrix photon expected value (cdg*c)"
   ]
  },
  {
   "cell_type": "markdown",
   "id": "31eb76e0",
   "metadata": {},
   "source": [
    "# Doing a measurement on a Qubit through a cavity\n",
    "This notebook will show how a measurement is made on a qubit trough a signal sent through the cavity.\n",
    "Depending on the state of the qubit the cavity's resonance frequency will change a small amount and the output of this signal we sent to the cavity will change. This is explained by the Hamiltonian of the interaction. In the dispersive regime we can approximate the Hamiltonian to:\n",
    "\n",
    "$\\displaystyle H = \\omega_r a^\\dagger a - \\frac{1}{2}\\omega_q \\sigma_z + \\chi (a^\\dagger a  + 1/2) \\sigma_z$\n",
    "\n",
    "And rearrange it to:\n",
    "\n",
    "$\\displaystyle H =  a^\\dagger a (\\omega_r+\\chi\\sigma_z) - \\frac{1}{2}\\omega_q \\sigma_z + \\chi (1/2) \\sigma_z$\n",
    "\n",
    "\n",
    "Where $\\chi = g^2/\\Delta$ and $\\Delta=|wc-w1|$. We can get from this an intuition that the state of the qubit expressed by $\\sigma_z$ will change the angular frequency  $(\\omega_r+\\chi\\sigma_z)$ of the cavity (by plus or minus $\\chi$) and we will measure a different amount of photons depending on the state of the qubit. Following the principles of quantum mechanics this will of course colapse the qubit's wave function to the measured value."
   ]
  },
  {
   "cell_type": "code",
   "execution_count": 2,
   "id": "e302ff51",
   "metadata": {},
   "outputs": [],
   "source": [
    "%matplotlib inline\n",
    "\n",
    "from qutip import *\n",
    "from math import *\n",
    "\n",
    "import matplotlib.pyplot as plt\n",
    "import numpy as np\n"
   ]
  },
  {
   "cell_type": "code",
   "execution_count": 187,
   "id": "25199479",
   "metadata": {},
   "outputs": [],
   "source": [
    "N = 10\n",
    "\n",
    "wc = 4.5 * 2 * pi #cavity angular freq\n",
    "w1 = 4.0 * 2 * pi #qubit 1 angular freq\n",
    "\n",
    "\n",
    "g1 = 0.1 * 2 * pi\n",
    "\n",
    "Omega1=4\n",
    "\n",
    "chi=g1**2/abs(wc-w1)\n",
    "\n",
    "tlist = np.linspace(0, 20, 1600)\n",
    "\n",
    "width = 0.5\n",
    "\n",
    "#rotating wave approximation\n",
    "use_rwa= False"
   ]
  },
  {
   "cell_type": "code",
   "execution_count": 199,
   "id": "a1c3ebaf",
   "metadata": {},
   "outputs": [
    {
     "data": {
      "text/plain": [
       "0.1256637061435917"
      ]
     },
     "execution_count": 199,
     "metadata": {},
     "output_type": "execute_result"
    }
   ],
   "source": [
    "w=chi\n",
    "w"
   ]
  },
  {
   "cell_type": "code",
   "execution_count": 189,
   "id": "e59cd5fc",
   "metadata": {},
   "outputs": [],
   "source": [
    "# cavity operators\n",
    "a = tensor(destroy(N), qeye(2))\n",
    "n = a.dag() * a\n",
    "\n",
    "# operators for qubit 1\n",
    "sm1 = tensor(qeye(N), destroy(2))\n",
    "sz1 = tensor(qeye(N), sigmaz())\n",
    "sy1 = tensor(qeye(N), sigmay())\n",
    "sx1 = tensor(qeye(N), sigmax())\n",
    "n1 = sm1.dag() * sm1\n"
   ]
  },
  {
   "cell_type": "code",
   "execution_count": 190,
   "id": "6e5bba21",
   "metadata": {},
   "outputs": [],
   "source": [
    "# Hamiltonian using QuTiP\n",
    "#cavity\n",
    "Hc = a.dag() * a * (wc-w)\n",
    "#qubits\n",
    "H1 = - 0.5 * sz1 * (w1-w)\n",
    "\n",
    "#cavity drive\n",
    "Hdc = (a.dag() + a )\n",
    "\n",
    "#2*sx\n",
    "#s+=[[0,1],[0,0]]\n",
    "#s-=s+.dag()\n",
    "\n",
    "#qubit drive\n",
    "Hd1=Omega1*sy1\n",
    "\n",
    "\n",
    "#Cavity-qubit coupling hamiltonians\n",
    "# Hamiltonian\n",
    "if use_rwa:\n",
    "    Hc1 = g1 * (a.dag() * sm1 + a * sm1.dag())\n",
    "else:\n",
    "    Hc1 = g1 * (a.dag() + a) * (sm1 + sm1.dag()) "
   ]
  },
  {
   "cell_type": "code",
   "execution_count": 191,
   "id": "772972cc",
   "metadata": {},
   "outputs": [],
   "source": [
    "#unitary step function\n",
    "def u_t(t):\n",
    "    return 1*(t > 0)\n",
    "\n",
    "#X pulse\n",
    "def X_t(t ,V0 ,T0, Omega, wd,theta):\n",
    "    T_s=theta/Omega/V0\n",
    "    return V0*(u_t(t-T0)-u_t(t-T0-T_s))*sin(wd*t)"
   ]
  },
  {
   "cell_type": "code",
   "execution_count": 217,
   "id": "af1aa959",
   "metadata": {},
   "outputs": [],
   "source": [
    "#qubit 1 drive\n",
    "def wd1_t(t, args=None):\n",
    "    return 0#X_t(t,0.3,10,Omega1,w1,pi)\n",
    "#qubit 1 drive\n",
    "#A = (1/3)*0.0002# field aplitude\n",
    "def A_t(t, args=None):\n",
    "    TA1=1\n",
    "    T_As=3\n",
    "    Amp=1\n",
    "    return Amp*(u_t(t-TA1)-u_t(t-TA1-T_As)) \n",
    "#+ Amp*(u_t(t-TA2)-u_t(t-TA2-T_As)))"
   ]
  },
  {
   "cell_type": "code",
   "execution_count": 226,
   "id": "c2339bed",
   "metadata": {},
   "outputs": [
    {
     "data": {
      "image/png": "[encoded data removed]",
      "text/plain": [
       "<Figure size 720x288 with 2 Axes>"
      ]
     },
     "metadata": {
      "needs_background": "light"
     },
     "output_type": "display_data"
    }
   ],
   "source": [
    "fig, axes = plt.subplots(2, 1, figsize=(10,4))\n",
    "axes[0].plot(tlist, [wd1_t(t) for t in tlist], 'b', label=\"drive qubit1\")\n",
    "axes[1].plot(tlist, [A_t(t) for t in tlist], 'r', label=\"drive cavity\")\n",
    "axes[0].set_ylim(-0.5,0.5)\n",
    "axes[0].set_xlim(0,20)\n",
    "axes[1].set_ylim(-0.2,1.2)\n",
    "axes[1].set_xlim(0,20)\n",
    "\n",
    "axes[0].set_xlabel(\"Time (ns)\", fontsize=16)\n",
    "axes[0].set_ylabel(\"Vd Signal Qubit 1\", fontsize=16)\n",
    "axes[1].set_xlabel(\"Time (ns)\", fontsize=16)\n",
    "axes[1].set_ylabel(\"Vd Signal Cavity\", fontsize=16)\n",
    "\n",
    "\n",
    "\n",
    "fig.tight_layout()"
   ]
  },
  {
   "cell_type": "code",
   "execution_count": 219,
   "id": "632346de",
   "metadata": {},
   "outputs": [],
   "source": [
    "# method 2: a function callback that returns the coefficient for a qobj\n",
    "    #H = [H0, [H1, lambda x,y: x]]\n",
    "    #output = mesolve(H, psi0, tlist, c_op_list, [sm.dag() * sm], {})  \n",
    "\n",
    "#This will multiply Hd1 and Hd2 by the time dependant step functions like wd1_t during the mesolve step\n",
    "H_t = [[Hd1, wd1_t],[Hdc,A_t], Hc+H1+Hc1]\n",
    "# initial state: start with two qubits in ground state\n",
    "psi0 = tensor(basis(N,0),basis(2,0))\n",
    "psi1 = tensor(basis(N,0),basis(2,1))\n",
    "res0 = mesolve(H_t, psi0, tlist, [], [])\n",
    "res1 = mesolve(H_t, psi1, tlist, [], [])"
   ]
  },
  {
   "cell_type": "code",
   "execution_count": 231,
   "id": "8632a69c",
   "metadata": {},
   "outputs": [],
   "source": [
    " def single_qubit_graph(res):\n",
    "    fig, axes = plt.subplots(1, 1, sharex=True, figsize=(10,4))\n",
    "\n",
    "    #axes.plot(tlist, np.real(expect(n1, res.states)), 'b', linewidth=2, label=\"qubit 1\")\n",
    "    #axes.plot(tlist, np.abs(expect(n, res.states)), 'r', linewidth=2, label=\"cavity\")\n",
    "    #axes.plot(tlist, np.real(expect(n, res1.states)), 'b', linewidth=2, label=\"qubit in |1>\")\n",
    "    axes.plot(tlist, np.real(expect(n, res0.states)), 'r', linewidth=2, label=\"qubit in |0>\")\n",
    "   #\n",
    "    #axes.plot(tlist, np.imag(expect(a, res.states)), 'g', linewidth=2, label=\"cavity\")\n",
    "   # axes.set_ylim(0, 1.5)\n",
    "    #axes.set_xlim(5,10)\n",
    "\n",
    "    axes.set_xlabel(\"Time (ns)\", fontsize=16)\n",
    "    axes.set_ylabel(\"Occupation probability\", fontsize=16)\n",
    "    axes.legend()\n",
    "\n",
    "    fig.tight_layout()"
   ]
  },
  {
   "cell_type": "code",
   "execution_count": 232,
   "id": "5354fbc7",
   "metadata": {
    "scrolled": true
   },
   "outputs": [
    {
     "data": {
      "image/png": "[encoded data removed]",
      "text/plain": [
       "<Figure size 720x288 with 1 Axes>"
      ]
     },
     "metadata": {
      "needs_background": "light"
     },
     "output_type": "display_data"
    }
   ],
   "source": [
    "single_qubit_graph(res)"
   ]
  },
  {
   "cell_type": "code",
   "execution_count": null,
   "id": "ff616f89",
   "metadata": {},
   "outputs": [],
   "source": []
  },
  {
   "cell_type": "code",
   "execution_count": null,
   "id": "7adb13ba",
   "metadata": {},
   "outputs": [],
   "source": []
  }
 ],
 "metadata": {
  "kernelspec": {
   "display_name": "Python 3 (ipykernel)",
   "language": "python",
   "name": "python3"
  },
  "language_info": {
   "codemirror_mode": {
    "name": "ipython",
    "version": 3
   },
   "file_extension": ".py",
   "mimetype": "text/x-python",
   "name": "python",
   "nbconvert_exporter": "python",
   "pygments_lexer": "ipython3",
   "version": "3.10.4"
  }
 },
 "nbformat": 4,
 "nbformat_minor": 5
}
